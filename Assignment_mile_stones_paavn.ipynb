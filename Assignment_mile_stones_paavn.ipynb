{
  "nbformat": 4,
  "nbformat_minor": 0,
  "metadata": {
    "colab": {
      "provenance": [],
      "authorship_tag": "ABX9TyObfqoIefZ5dPN5xxCMyCwM",
      "include_colab_link": true
    },
    "kernelspec": {
      "name": "python3",
      "display_name": "Python 3"
    },
    "language_info": {
      "name": "python"
    }
  },
  "cells": [
    {
      "cell_type": "markdown",
      "metadata": {
        "id": "view-in-github",
        "colab_type": "text"
      },
      "source": [
        "<a href=\"https://colab.research.google.com/github/Pavan2586/certificates/blob/main/Assignment_mile_stones_paavn.ipynb\" target=\"_parent\"><img src=\"https://colab.research.google.com/assets/colab-badge.svg\" alt=\"Open In Colab\"/></a>"
      ]
    },
    {
      "cell_type": "markdown",
      "source": [
        "1 : Write a Python function first_non_repeating_char that takes a string as input and returns the first non-repeating character. If all characters are repeating or the string is empty, return None."
      ],
      "metadata": {
        "id": "R5IWr7tCffBG"
      }
    },
    {
      "cell_type": "code",
      "execution_count": null,
      "metadata": {
        "id": "Ye3YKXiBfZKr"
      },
      "outputs": [],
      "source": [
        "def first_non_repeating_char(s):\n",
        "    char_count = {}\n",
        "    for char in s:\n",
        "        if char in char_count:\n",
        "            char_count[char] += 1\n",
        "        else:\n",
        "            char_count[char] = 1\n",
        "    for char in s:\n",
        "        if char_count[char] == 1:\n",
        "            return char\n",
        "    return None\n",
        "s=input()\n",
        "result=first_non_repeating_char(s)\n",
        "print(result)\n"
      ]
    },
    {
      "cell_type": "markdown",
      "source": [
        "2.Longest Balanced Substring Write a Python function longest_balanced_substring(s: str) -> str that takes a string containing only parentheses ( and ) and returns the longest balanced substring. A balanced substring contains an equal number of opening and closing parentheses in the correct order."
      ],
      "metadata": {
        "id": "T6O0Nc9Fj-em"
      }
    },
    {
      "cell_type": "code",
      "source": [
        "def longest_balanced_substring(s: str) -> str:\n",
        "    stack = []\n",
        "    max_len = 0\n",
        "    max_substring = \"\"\n",
        "    temp_substring = \"\"\n",
        "    temp_len = 0\n",
        "    opening_count = 0\n",
        "    closing_count = 0\n",
        "\n",
        "    for char in s:\n",
        "        if char == \"(\":\n",
        "            stack.append(char)\n",
        "            opening_count += 1\n",
        "            temp_substring += char\n",
        "            temp_len += 1\n",
        "        elif char == \")\":\n",
        "            if stack and stack[-1] == \"(\":\n",
        "                stack.pop()\n",
        "                temp_substring += char\n",
        "                temp_len += 1\n",
        "                closing_count += 1\n",
        "                if opening_count == closing_count:\n",
        "                    if temp_len > max_len:\n",
        "                        max_len = temp_len\n",
        "                        max_substring = temp_substring\n",
        "            else:\n",
        "                opening_count = 0\n",
        "                closing_count = 0\n",
        "                temp_substring = \"\"\n",
        "                temp_len = 0\n",
        "                stack = []\n",
        "\n",
        "    return max_substring\n",
        "\n",
        "# Take input from user\n",
        "user_input = input(\"Enter a string of parentheses: \")\n",
        "\n",
        "# Check the function\n",
        "result = longest_balanced_substring(user_input)\n",
        "\n",
        "print(\"The longest balanced substring is:\", result)"
      ],
      "metadata": {
        "id": "T5UWAAtGkACc"
      },
      "execution_count": null,
      "outputs": []
    },
    {
      "cell_type": "markdown",
      "source": [
        "3. Find Missing Ranges Write a Python function find_missing_ranges(nums: Lis\n",
        " [int], lower: int, upper: int) -> List[str] that takes a sorted list of unique integers nums within the range [lower, upper] and returns the list of missing ranges in the format \"lower->upper\"."
      ],
      "metadata": {
        "id": "M8LUnmCzkE7i"
      }
    },
    {
      "cell_type": "code",
      "source": [
        "from typing import List\n",
        "\n",
        "def find_missing_ranges(nums: List[int], lower: int, upper: int) -> List[str]:\n",
        "    missing_ranges = []\n",
        "\n",
        "    # Check for missing range before the first element\n",
        "    if nums and nums[0] > lower:\n",
        "        if nums[0] - lower == 1:\n",
        "            missing_ranges.append(str(lower))\n",
        "        else:\n",
        "            missing_ranges.append(str(lower) + \"->\" + str(nums[0] - 1))\n",
        "\n",
        "    # Check for missing ranges between elements\n",
        "    for i in range(len(nums) - 1):\n",
        "        if nums[i + 1] - nums[i] > 1:\n",
        "            if nums[i + 1] - nums[i] == 2:\n",
        "                missing_ranges.append(str(nums[i] + 1))\n",
        "            else:\n",
        "                missing_ranges.append(str(nums[i] + 1) + \"->\" + str(nums[i + 1] - 1))\n",
        "\n",
        "    # Check for missing range after the last element\n",
        "    if nums and nums[-1] < upper:\n",
        "        if upper - nums[-1] == 1:\n",
        "            missing_ranges.append(str(upper))\n",
        "        else:\n",
        "            missing_ranges.append(str(nums[-1] + 1) + \"->\" + str(upper))\n",
        "\n",
        "    # Check for missing range when the list is empty\n",
        "    if not nums:\n",
        "        if upper - lower == 0:\n",
        "            missing_ranges.append(str(lower))\n",
        "        else:\n",
        "            missing_ranges.append(str(lower) + \"->\" + str(upper))\n",
        "\n",
        "    return missing_ranges\n",
        "\n",
        "# Take input from user\n",
        "nums = list(map(int, input(\"Enter the list of numbers (separated by space): \").split()))\n",
        "lower = int(input(\"Enter the lower bound: \"))\n",
        "upper = int(input(\"Enter the upper bound: \"))\n",
        "\n",
        "# Check the function\n",
        "result = find_missing_ranges(nums, lower, upper)\n",
        "\n",
        "print(\"The missing ranges are:\", result)"
      ],
      "metadata": {
        "id": "A1_FYuJJkOms"
      },
      "execution_count": null,
      "outputs": []
    }
  ]
}